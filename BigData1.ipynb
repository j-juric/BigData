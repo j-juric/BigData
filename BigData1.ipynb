{
 "cells": [
  {
   "cell_type": "code",
   "execution_count": 1,
   "metadata": {},
   "outputs": [],
   "source": [
    "from pyspark.sql import SparkSession\n",
    "import pyspark.sql.functions as F\n",
    "spark = SparkSession.builder.master(\"local[4]\").appName(\"Darknet\").getOrCreate()"
   ]
  },
  {
   "cell_type": "code",
   "execution_count": 2,
   "metadata": {},
   "outputs": [],
   "source": [
    "data = spark.read.csv('Darknet2.csv',header=True)"
   ]
  },
  {
   "cell_type": "code",
   "execution_count": 3,
   "metadata": {},
   "outputs": [
    {
     "data": {
      "text/plain": [
       "141530"
      ]
     },
     "execution_count": 3,
     "metadata": {},
     "output_type": "execute_result"
    }
   ],
   "source": [
    "data.count()"
   ]
  },
  {
   "cell_type": "code",
   "execution_count": 4,
   "metadata": {},
   "outputs": [
    {
     "name": "stdout",
     "output_type": "stream",
     "text": [
      "root\n",
      " |-- _c0: string (nullable = true)\n",
      " |-- Flow ID: string (nullable = true)\n",
      " |-- Src IP: string (nullable = true)\n",
      " |-- Src Port: string (nullable = true)\n",
      " |-- Dst IP: string (nullable = true)\n",
      " |-- Dst Port: string (nullable = true)\n",
      " |-- Protocol: string (nullable = true)\n",
      " |-- Timestamp: string (nullable = true)\n",
      " |-- Flow Duration: string (nullable = true)\n",
      " |-- Total Fwd Packet: string (nullable = true)\n",
      " |-- Total Bwd packets: string (nullable = true)\n",
      " |-- Total Length of Fwd Packet: string (nullable = true)\n",
      " |-- Total Length of Bwd Packet: string (nullable = true)\n",
      " |-- Fwd Packet Length Max: string (nullable = true)\n",
      " |-- Fwd Packet Length Min: string (nullable = true)\n",
      " |-- Fwd Packet Length Mean: string (nullable = true)\n",
      " |-- Fwd Packet Length Std: string (nullable = true)\n",
      " |-- Bwd Packet Length Max: string (nullable = true)\n",
      " |-- Bwd Packet Length Min: string (nullable = true)\n",
      " |-- Bwd Packet Length Mean: string (nullable = true)\n",
      " |-- Bwd Packet Length Std: string (nullable = true)\n",
      " |-- Flow Bytes/s: string (nullable = true)\n",
      " |-- Flow Packets/s: string (nullable = true)\n",
      " |-- Flow IAT Mean: string (nullable = true)\n",
      " |-- Flow IAT Std: string (nullable = true)\n",
      " |-- Flow IAT Max: string (nullable = true)\n",
      " |-- Flow IAT Min: string (nullable = true)\n",
      " |-- Fwd IAT Total: string (nullable = true)\n",
      " |-- Fwd IAT Mean: string (nullable = true)\n",
      " |-- Fwd IAT Std: string (nullable = true)\n",
      " |-- Fwd IAT Max: string (nullable = true)\n",
      " |-- Fwd IAT Min: string (nullable = true)\n",
      " |-- Bwd IAT Total: string (nullable = true)\n",
      " |-- Bwd IAT Mean: string (nullable = true)\n",
      " |-- Bwd IAT Std: string (nullable = true)\n",
      " |-- Bwd IAT Max: string (nullable = true)\n",
      " |-- Bwd IAT Min: string (nullable = true)\n",
      " |-- Fwd PSH Flags: string (nullable = true)\n",
      " |-- Bwd PSH Flags: string (nullable = true)\n",
      " |-- Fwd URG Flags: string (nullable = true)\n",
      " |-- Bwd URG Flags: string (nullable = true)\n",
      " |-- Fwd Header Length: string (nullable = true)\n",
      " |-- Bwd Header Length: string (nullable = true)\n",
      " |-- Fwd Packets/s: string (nullable = true)\n",
      " |-- Bwd Packets/s: string (nullable = true)\n",
      " |-- Packet Length Min: string (nullable = true)\n",
      " |-- Packet Length Max: string (nullable = true)\n",
      " |-- Packet Length Mean: string (nullable = true)\n",
      " |-- Packet Length Std: string (nullable = true)\n",
      " |-- Packet Length Variance: string (nullable = true)\n",
      " |-- FIN Flag Count: string (nullable = true)\n",
      " |-- SYN Flag Count: string (nullable = true)\n",
      " |-- RST Flag Count: string (nullable = true)\n",
      " |-- PSH Flag Count: string (nullable = true)\n",
      " |-- ACK Flag Count: string (nullable = true)\n",
      " |-- URG Flag Count: string (nullable = true)\n",
      " |-- CWE Flag Count: string (nullable = true)\n",
      " |-- ECE Flag Count: string (nullable = true)\n",
      " |-- Down/Up Ratio: string (nullable = true)\n",
      " |-- Average Packet Size: string (nullable = true)\n",
      " |-- Fwd Segment Size Avg: string (nullable = true)\n",
      " |-- Bwd Segment Size Avg: string (nullable = true)\n",
      " |-- Fwd Bytes/Bulk Avg: string (nullable = true)\n",
      " |-- Fwd Packet/Bulk Avg: string (nullable = true)\n",
      " |-- Fwd Bulk Rate Avg: string (nullable = true)\n",
      " |-- Bwd Bytes/Bulk Avg: string (nullable = true)\n",
      " |-- Bwd Packet/Bulk Avg: string (nullable = true)\n",
      " |-- Bwd Bulk Rate Avg: string (nullable = true)\n",
      " |-- Subflow Fwd Packets: string (nullable = true)\n",
      " |-- Subflow Fwd Bytes: string (nullable = true)\n",
      " |-- Subflow Bwd Packets: string (nullable = true)\n",
      " |-- Subflow Bwd Bytes: string (nullable = true)\n",
      " |-- FWD Init Win Bytes: string (nullable = true)\n",
      " |-- Bwd Init Win Bytes: string (nullable = true)\n",
      " |-- Fwd Act Data Pkts: string (nullable = true)\n",
      " |-- Fwd Seg Size Min: string (nullable = true)\n",
      " |-- Active Mean: string (nullable = true)\n",
      " |-- Active Std: string (nullable = true)\n",
      " |-- Active Max: string (nullable = true)\n",
      " |-- Active Min: string (nullable = true)\n",
      " |-- Idle Mean: string (nullable = true)\n",
      " |-- Idle Std: string (nullable = true)\n",
      " |-- Idle Max: string (nullable = true)\n",
      " |-- Idle Min: string (nullable = true)\n",
      " |-- Label1: string (nullable = true)\n",
      " |-- Label2: string (nullable = true)\n",
      "\n"
     ]
    }
   ],
   "source": [
    "data.printSchema()"
   ]
  },
  {
   "cell_type": "code",
   "execution_count": 5,
   "metadata": {},
   "outputs": [
    {
     "data": {
      "text/plain": [
       "['Email',\n",
       " 'File-transfer',\n",
       " 'Browsing',\n",
       " 'Chat',\n",
       " 'Video-streaming',\n",
       " 'AUDIO-STREAMING',\n",
       " 'File-Transfer',\n",
       " 'P2P',\n",
       " 'Video-Streaming',\n",
       " 'Audio-Streaming',\n",
       " 'VOIP']"
      ]
     },
     "execution_count": 5,
     "metadata": {},
     "output_type": "execute_result"
    }
   ],
   "source": [
    "# Preview the column which shows types of traffic for the packets in the dataset\n",
    "rdd = data.rdd\n",
    "rdd.map(lambda x:x[-1]).distinct().take(15)"
   ]
  },
  {
   "cell_type": "code",
   "execution_count": 6,
   "metadata": {},
   "outputs": [
    {
     "data": {
      "text/plain": [
       "['Tor', 'Non-Tor', 'NonVPN', 'VPN']"
      ]
     },
     "execution_count": 6,
     "metadata": {},
     "output_type": "execute_result"
    }
   ],
   "source": [
    "# Preview the column which indicates if the packet flows through the surface web or dark web\n",
    "rdd.map(lambda x:x[-2]).distinct().take(15)"
   ]
  },
  {
   "cell_type": "code",
   "execution_count": 7,
   "metadata": {},
   "outputs": [],
   "source": [
    "import time\n",
    "from datetime import datetime\n",
    "#Returns a timestamp based on the input date (format must be d/m/y)\n",
    "def date_to_timestamp(date):\n",
    "    return time.mktime(datetime.strptime(date,'%d/%m/%Y').timetuple())"
   ]
  },
  {
   "cell_type": "code",
   "execution_count": 8,
   "metadata": {},
   "outputs": [],
   "source": [
    "#Select columns we want to preview\n",
    "df1 = data.select(F.col('Src IP'), F.col('Dst IP'), F.col('Timestamp'), F.col('Total Length of Fwd Packet'), F.col('Total Length of Bwd Packet'), F.col('Label1'), F.col('Label2'))\n",
    "\n",
    "#Filter Data based on type of traffic on the dark net\n",
    "df1 = df1.where(F.col('Label2') == 'P2P').where((F.col('Label1')=='Tor') or (F.col('Label1')='VPN'))\n",
    "\n",
    "start_date = '23/02/2016'\n",
    "end_date = '24/02/2016'\n",
    "\n",
    "start_timestamp = date_to_timestamp(start_date)\n",
    "end_timestamp = date_to_timestamp(end_date)\n",
    "\n",
    "#Filter data within a selected time frame\n",
    "df1 = df1.where(F.col('Timestamp').between(start_timestamp,end_timestamp))"
   ]
  },
  {
   "cell_type": "code",
   "execution_count": 12,
   "metadata": {},
   "outputs": [
    {
     "name": "stdout",
     "output_type": "stream",
     "text": [
      "+--------------+-----------+------------+--------------------------+--------------------------+------+------+\n",
      "|        Src IP|     Dst IP|   Timestamp|Total Length of Fwd Packet|Total Length of Bwd Packet|Label1|Label2|\n",
      "+--------------+-----------+------------+--------------------------+--------------------------+------+------+\n",
      "|195.154.107.23|  10.0.2.15|1456243608.0|                  33081404|                   2191365|   Tor|   P2P|\n",
      "|     10.0.2.15|37.97.149.8|1456243611.0|                     40556|                      1629|   Tor|   P2P|\n",
      "|     10.0.2.15|37.97.149.8|1456243838.0|                         0|                         0|   Tor|   P2P|\n",
      "|195.154.107.23|  10.0.2.15|1456243728.0|                  32947670|                   1805843|   Tor|   P2P|\n",
      "|195.154.107.23|  10.0.2.15|1456243848.0|                  32432503|                   1759010|   Tor|   P2P|\n",
      "|195.154.107.23|  10.0.2.15|1456243968.0|                  32478375|                   1697794|   Tor|   P2P|\n",
      "|195.154.107.23|  10.0.2.15|1456244088.0|                  32805849|                   1711546|   Tor|   P2P|\n",
      "|195.154.107.23|  10.0.2.15|1456244208.0|                  32198947|                   1728610|   Tor|   P2P|\n",
      "|195.154.107.23|  10.0.2.15|1456244328.0|                  32288962|                   1693622|   Tor|   P2P|\n",
      "|195.154.107.23|  10.0.2.15|1456244448.0|                  32660677|                   1743285|   Tor|   P2P|\n",
      "|195.154.107.23|  10.0.2.15|1456244568.0|                  33349626|                   2094058|   Tor|   P2P|\n",
      "|     10.0.2.15|37.97.149.8|1456244485.0|                      7439|                      9365|   Tor|   P2P|\n",
      "|195.154.107.23|  10.0.2.15|1456244688.0|                  32774062|                   1862217|   Tor|   P2P|\n",
      "|195.154.107.23|  10.0.2.15|1456244808.0|                  33416725|                   1816785|   Tor|   P2P|\n",
      "|195.154.107.23|  10.0.2.15|1456244928.0|                  33086524|                   1785802|   Tor|   P2P|\n",
      "|     10.0.2.15|37.97.149.8|1456244804.0|                       543|                       543|   Tor|   P2P|\n",
      "|195.154.107.23|  10.0.2.15|1456245048.0|                  33161428|                   1836838|   Tor|   P2P|\n",
      "|195.154.107.23|  10.0.2.15|1456245168.0|                  33140273|                   1822731|   Tor|   P2P|\n",
      "|     10.0.2.15|37.97.149.8|1456245104.0|                      1086|                      1086|   Tor|   P2P|\n",
      "|     10.0.2.15|37.97.149.8|1456245313.0|                         0|                         0|   Tor|   P2P|\n",
      "+--------------+-----------+------------+--------------------------+--------------------------+------+------+\n",
      "only showing top 20 rows\n",
      "\n"
     ]
    }
   ],
   "source": [
    "df1.show(20)"
   ]
  },
  {
   "cell_type": "code",
   "execution_count": 13,
   "metadata": {},
   "outputs": [
    {
     "name": "stdout",
     "output_type": "stream",
     "text": [
      "+-------+--------------+-----------+--------------------+--------------------------+--------------------------+------+------+\n",
      "|summary|        Src IP|     Dst IP|           Timestamp|Total Length of Fwd Packet|Total Length of Bwd Packet|Label1|Label2|\n",
      "+-------+--------------+-----------+--------------------+--------------------------+--------------------------+------+------+\n",
      "|  count|            98|         98|                  98|                        98|                        98|    98|    98|\n",
      "|   mean|          null|       null|1.4562455131020408E9|       2.311138751020408E7|        1746902.4897959183|  null|  null|\n",
      "| stddev|          null|       null|  1122.8870605135437|      1.4932938765724642E7|        1690018.8331980957|  null|  null|\n",
      "|    min|     10.0.2.15|  10.0.2.15|        1456243608.0|                         0|                         0|   Tor|   P2P|\n",
      "|    25%|          null|       null|       1.456244688E9|                   22347.0|                   41286.0|  null|  null|\n",
      "|    50%|          null|       null|       1.456245528E9|               3.2794315E7|                 1823074.0|  null|  null|\n",
      "|    75%|          null|       null|       1.456246249E9|               3.2969761E7|                 1930661.0|  null|  null|\n",
      "|    max|195.154.107.23|37.97.149.8|        1456247689.0|                      8714|                      9365|   Tor|   P2P|\n",
      "+-------+--------------+-----------+--------------------+--------------------------+--------------------------+------+------+\n",
      "\n"
     ]
    }
   ],
   "source": [
    "df1.summary().show()"
   ]
  },
  {
   "cell_type": "code",
   "execution_count": null,
   "metadata": {},
   "outputs": [],
   "source": []
  }
 ],
 "metadata": {
  "kernelspec": {
   "display_name": "Python 3",
   "language": "python",
   "name": "python3"
  },
  "language_info": {
   "codemirror_mode": {
    "name": "ipython",
    "version": 3
   },
   "file_extension": ".py",
   "mimetype": "text/x-python",
   "name": "python",
   "nbconvert_exporter": "python",
   "pygments_lexer": "ipython3",
   "version": "3.8.5"
  }
 },
 "nbformat": 4,
 "nbformat_minor": 4
}
